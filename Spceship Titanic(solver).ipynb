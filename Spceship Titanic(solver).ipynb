{
 "cells": [
  {
   "cell_type": "code",
   "execution_count": 1,
   "id": "bb86bd84",
   "metadata": {},
   "outputs": [],
   "source": [
    "import numpy as np\n",
    "import pandas as pd\n",
    "import matplotlib.pyplot as plt\n",
    "import seaborn as sns\n",
    "%matplotlib inline"
   ]
  },
  {
   "cell_type": "code",
   "execution_count": 2,
   "id": "163ca415",
   "metadata": {},
   "outputs": [],
   "source": [
    "df = pd.read_csv('D:/spaceship-titanic/train.csv')"
   ]
  },
  {
   "cell_type": "code",
   "execution_count": 3,
   "id": "62be17bc",
   "metadata": {},
   "outputs": [
    {
     "data": {
      "text/html": [
       "<div>\n",
       "<style scoped>\n",
       "    .dataframe tbody tr th:only-of-type {\n",
       "        vertical-align: middle;\n",
       "    }\n",
       "\n",
       "    .dataframe tbody tr th {\n",
       "        vertical-align: top;\n",
       "    }\n",
       "\n",
       "    .dataframe thead th {\n",
       "        text-align: right;\n",
       "    }\n",
       "</style>\n",
       "<table border=\"1\" class=\"dataframe\">\n",
       "  <thead>\n",
       "    <tr style=\"text-align: right;\">\n",
       "      <th></th>\n",
       "      <th>PassengerId</th>\n",
       "      <th>HomePlanet</th>\n",
       "      <th>CryoSleep</th>\n",
       "      <th>Cabin</th>\n",
       "      <th>Destination</th>\n",
       "      <th>Age</th>\n",
       "      <th>VIP</th>\n",
       "      <th>RoomService</th>\n",
       "      <th>FoodCourt</th>\n",
       "      <th>ShoppingMall</th>\n",
       "      <th>Spa</th>\n",
       "      <th>VRDeck</th>\n",
       "      <th>Name</th>\n",
       "      <th>Transported</th>\n",
       "    </tr>\n",
       "  </thead>\n",
       "  <tbody>\n",
       "    <tr>\n",
       "      <th>0</th>\n",
       "      <td>0001_01</td>\n",
       "      <td>Europa</td>\n",
       "      <td>False</td>\n",
       "      <td>B/0/P</td>\n",
       "      <td>TRAPPIST-1e</td>\n",
       "      <td>39.0</td>\n",
       "      <td>False</td>\n",
       "      <td>0.0</td>\n",
       "      <td>0.0</td>\n",
       "      <td>0.0</td>\n",
       "      <td>0.0</td>\n",
       "      <td>0.0</td>\n",
       "      <td>Maham Ofracculy</td>\n",
       "      <td>False</td>\n",
       "    </tr>\n",
       "    <tr>\n",
       "      <th>1</th>\n",
       "      <td>0002_01</td>\n",
       "      <td>Earth</td>\n",
       "      <td>False</td>\n",
       "      <td>F/0/S</td>\n",
       "      <td>TRAPPIST-1e</td>\n",
       "      <td>24.0</td>\n",
       "      <td>False</td>\n",
       "      <td>109.0</td>\n",
       "      <td>9.0</td>\n",
       "      <td>25.0</td>\n",
       "      <td>549.0</td>\n",
       "      <td>44.0</td>\n",
       "      <td>Juanna Vines</td>\n",
       "      <td>True</td>\n",
       "    </tr>\n",
       "    <tr>\n",
       "      <th>2</th>\n",
       "      <td>0003_01</td>\n",
       "      <td>Europa</td>\n",
       "      <td>False</td>\n",
       "      <td>A/0/S</td>\n",
       "      <td>TRAPPIST-1e</td>\n",
       "      <td>58.0</td>\n",
       "      <td>True</td>\n",
       "      <td>43.0</td>\n",
       "      <td>3576.0</td>\n",
       "      <td>0.0</td>\n",
       "      <td>6715.0</td>\n",
       "      <td>49.0</td>\n",
       "      <td>Altark Susent</td>\n",
       "      <td>False</td>\n",
       "    </tr>\n",
       "    <tr>\n",
       "      <th>3</th>\n",
       "      <td>0003_02</td>\n",
       "      <td>Europa</td>\n",
       "      <td>False</td>\n",
       "      <td>A/0/S</td>\n",
       "      <td>TRAPPIST-1e</td>\n",
       "      <td>33.0</td>\n",
       "      <td>False</td>\n",
       "      <td>0.0</td>\n",
       "      <td>1283.0</td>\n",
       "      <td>371.0</td>\n",
       "      <td>3329.0</td>\n",
       "      <td>193.0</td>\n",
       "      <td>Solam Susent</td>\n",
       "      <td>False</td>\n",
       "    </tr>\n",
       "    <tr>\n",
       "      <th>4</th>\n",
       "      <td>0004_01</td>\n",
       "      <td>Earth</td>\n",
       "      <td>False</td>\n",
       "      <td>F/1/S</td>\n",
       "      <td>TRAPPIST-1e</td>\n",
       "      <td>16.0</td>\n",
       "      <td>False</td>\n",
       "      <td>303.0</td>\n",
       "      <td>70.0</td>\n",
       "      <td>151.0</td>\n",
       "      <td>565.0</td>\n",
       "      <td>2.0</td>\n",
       "      <td>Willy Santantines</td>\n",
       "      <td>True</td>\n",
       "    </tr>\n",
       "    <tr>\n",
       "      <th>5</th>\n",
       "      <td>0005_01</td>\n",
       "      <td>Earth</td>\n",
       "      <td>False</td>\n",
       "      <td>F/0/P</td>\n",
       "      <td>PSO J318.5-22</td>\n",
       "      <td>44.0</td>\n",
       "      <td>False</td>\n",
       "      <td>0.0</td>\n",
       "      <td>483.0</td>\n",
       "      <td>0.0</td>\n",
       "      <td>291.0</td>\n",
       "      <td>0.0</td>\n",
       "      <td>Sandie Hinetthews</td>\n",
       "      <td>True</td>\n",
       "    </tr>\n",
       "    <tr>\n",
       "      <th>6</th>\n",
       "      <td>0006_01</td>\n",
       "      <td>Earth</td>\n",
       "      <td>False</td>\n",
       "      <td>F/2/S</td>\n",
       "      <td>TRAPPIST-1e</td>\n",
       "      <td>26.0</td>\n",
       "      <td>False</td>\n",
       "      <td>42.0</td>\n",
       "      <td>1539.0</td>\n",
       "      <td>3.0</td>\n",
       "      <td>0.0</td>\n",
       "      <td>0.0</td>\n",
       "      <td>Billex Jacostaffey</td>\n",
       "      <td>True</td>\n",
       "    </tr>\n",
       "    <tr>\n",
       "      <th>7</th>\n",
       "      <td>0006_02</td>\n",
       "      <td>Earth</td>\n",
       "      <td>True</td>\n",
       "      <td>G/0/S</td>\n",
       "      <td>TRAPPIST-1e</td>\n",
       "      <td>28.0</td>\n",
       "      <td>False</td>\n",
       "      <td>0.0</td>\n",
       "      <td>0.0</td>\n",
       "      <td>0.0</td>\n",
       "      <td>0.0</td>\n",
       "      <td>NaN</td>\n",
       "      <td>Candra Jacostaffey</td>\n",
       "      <td>True</td>\n",
       "    </tr>\n",
       "    <tr>\n",
       "      <th>8</th>\n",
       "      <td>0007_01</td>\n",
       "      <td>Earth</td>\n",
       "      <td>False</td>\n",
       "      <td>F/3/S</td>\n",
       "      <td>TRAPPIST-1e</td>\n",
       "      <td>35.0</td>\n",
       "      <td>False</td>\n",
       "      <td>0.0</td>\n",
       "      <td>785.0</td>\n",
       "      <td>17.0</td>\n",
       "      <td>216.0</td>\n",
       "      <td>0.0</td>\n",
       "      <td>Andona Beston</td>\n",
       "      <td>True</td>\n",
       "    </tr>\n",
       "    <tr>\n",
       "      <th>9</th>\n",
       "      <td>0008_01</td>\n",
       "      <td>Europa</td>\n",
       "      <td>True</td>\n",
       "      <td>B/1/P</td>\n",
       "      <td>55 Cancri e</td>\n",
       "      <td>14.0</td>\n",
       "      <td>False</td>\n",
       "      <td>0.0</td>\n",
       "      <td>0.0</td>\n",
       "      <td>0.0</td>\n",
       "      <td>0.0</td>\n",
       "      <td>0.0</td>\n",
       "      <td>Erraiam Flatic</td>\n",
       "      <td>True</td>\n",
       "    </tr>\n",
       "  </tbody>\n",
       "</table>\n",
       "</div>"
      ],
      "text/plain": [
       "  PassengerId HomePlanet CryoSleep  Cabin    Destination   Age    VIP  \\\n",
       "0     0001_01     Europa     False  B/0/P    TRAPPIST-1e  39.0  False   \n",
       "1     0002_01      Earth     False  F/0/S    TRAPPIST-1e  24.0  False   \n",
       "2     0003_01     Europa     False  A/0/S    TRAPPIST-1e  58.0   True   \n",
       "3     0003_02     Europa     False  A/0/S    TRAPPIST-1e  33.0  False   \n",
       "4     0004_01      Earth     False  F/1/S    TRAPPIST-1e  16.0  False   \n",
       "5     0005_01      Earth     False  F/0/P  PSO J318.5-22  44.0  False   \n",
       "6     0006_01      Earth     False  F/2/S    TRAPPIST-1e  26.0  False   \n",
       "7     0006_02      Earth      True  G/0/S    TRAPPIST-1e  28.0  False   \n",
       "8     0007_01      Earth     False  F/3/S    TRAPPIST-1e  35.0  False   \n",
       "9     0008_01     Europa      True  B/1/P    55 Cancri e  14.0  False   \n",
       "\n",
       "   RoomService  FoodCourt  ShoppingMall     Spa  VRDeck                Name  \\\n",
       "0          0.0        0.0           0.0     0.0     0.0     Maham Ofracculy   \n",
       "1        109.0        9.0          25.0   549.0    44.0        Juanna Vines   \n",
       "2         43.0     3576.0           0.0  6715.0    49.0       Altark Susent   \n",
       "3          0.0     1283.0         371.0  3329.0   193.0        Solam Susent   \n",
       "4        303.0       70.0         151.0   565.0     2.0   Willy Santantines   \n",
       "5          0.0      483.0           0.0   291.0     0.0   Sandie Hinetthews   \n",
       "6         42.0     1539.0           3.0     0.0     0.0  Billex Jacostaffey   \n",
       "7          0.0        0.0           0.0     0.0     NaN  Candra Jacostaffey   \n",
       "8          0.0      785.0          17.0   216.0     0.0       Andona Beston   \n",
       "9          0.0        0.0           0.0     0.0     0.0      Erraiam Flatic   \n",
       "\n",
       "   Transported  \n",
       "0        False  \n",
       "1         True  \n",
       "2        False  \n",
       "3        False  \n",
       "4         True  \n",
       "5         True  \n",
       "6         True  \n",
       "7         True  \n",
       "8         True  \n",
       "9         True  "
      ]
     },
     "execution_count": 3,
     "metadata": {},
     "output_type": "execute_result"
    }
   ],
   "source": [
    "df.head(10)"
   ]
  },
  {
   "cell_type": "code",
   "execution_count": null,
   "id": "aa0466f3",
   "metadata": {},
   "outputs": [],
   "source": []
  },
  {
   "cell_type": "code",
   "execution_count": 4,
   "id": "421f0ea5",
   "metadata": {},
   "outputs": [
    {
     "name": "stdout",
     "output_type": "stream",
     "text": [
      "<class 'pandas.core.frame.DataFrame'>\n",
      "RangeIndex: 8693 entries, 0 to 8692\n",
      "Data columns (total 14 columns):\n",
      " #   Column        Non-Null Count  Dtype  \n",
      "---  ------        --------------  -----  \n",
      " 0   PassengerId   8693 non-null   object \n",
      " 1   HomePlanet    8492 non-null   object \n",
      " 2   CryoSleep     8476 non-null   object \n",
      " 3   Cabin         8494 non-null   object \n",
      " 4   Destination   8511 non-null   object \n",
      " 5   Age           8514 non-null   float64\n",
      " 6   VIP           8490 non-null   object \n",
      " 7   RoomService   8512 non-null   float64\n",
      " 8   FoodCourt     8510 non-null   float64\n",
      " 9   ShoppingMall  8485 non-null   float64\n",
      " 10  Spa           8510 non-null   float64\n",
      " 11  VRDeck        8505 non-null   float64\n",
      " 12  Name          8493 non-null   object \n",
      " 13  Transported   8693 non-null   bool   \n",
      "dtypes: bool(1), float64(6), object(7)\n",
      "memory usage: 891.5+ KB\n"
     ]
    }
   ],
   "source": [
    "df.info()"
   ]
  },
  {
   "cell_type": "code",
   "execution_count": 5,
   "id": "d5eced82",
   "metadata": {},
   "outputs": [
    {
     "data": {
      "text/plain": [
       "True     4378\n",
       "False    4315\n",
       "Name: Transported, dtype: int64"
      ]
     },
     "execution_count": 5,
     "metadata": {},
     "output_type": "execute_result"
    }
   ],
   "source": [
    "df['Transported'].value_counts()"
   ]
  },
  {
   "cell_type": "code",
   "execution_count": 6,
   "id": "727c9645",
   "metadata": {},
   "outputs": [
    {
     "data": {
      "text/plain": [
       "<AxesSubplot:>"
      ]
     },
     "execution_count": 6,
     "metadata": {},
     "output_type": "execute_result"
    },
    {
     "data": {
      "image/png": "[encoded data removed]",
      "text/plain": [
       "<Figure size 432x288 with 1 Axes>"
      ]
     },
     "metadata": {
      "needs_background": "light"
     },
     "output_type": "display_data"
    }
   ],
   "source": [
    "sns.heatmap(df.isnull(),yticklabels=False,cbar=False,cmap='viridis')"
   ]
  },
  {
   "cell_type": "code",
   "execution_count": 7,
   "id": "b0eedfcd",
   "metadata": {},
   "outputs": [],
   "source": [
    "#Name is not a feature\n",
    "df.drop('Name',axis=1,inplace=True)"
   ]
  },
  {
   "cell_type": "code",
   "execution_count": 8,
   "id": "d150e72c",
   "metadata": {},
   "outputs": [
    {
     "data": {
      "text/plain": [
       "0.35830580462482303"
      ]
     },
     "execution_count": 8,
     "metadata": {},
     "output_type": "execute_result"
    }
   ],
   "source": [
    "df['CryoSleep'].mean()"
   ]
  },
  {
   "cell_type": "code",
   "execution_count": null,
   "id": "b913e93d",
   "metadata": {},
   "outputs": [],
   "source": []
  },
  {
   "cell_type": "code",
   "execution_count": 9,
   "id": "9721c440",
   "metadata": {},
   "outputs": [
    {
     "data": {
      "text/plain": [
       "<AxesSubplot:>"
      ]
     },
     "execution_count": 9,
     "metadata": {},
     "output_type": "execute_result"
    },
    {
     "data": {
      "image/png": "[encoded data removed]",
      "text/plain": [
       "<Figure size 432x288 with 1 Axes>"
      ]
     },
     "metadata": {
      "needs_background": "light"
     },
     "output_type": "display_data"
    }
   ],
   "source": [
    "sns.heatmap(df.isnull(),yticklabels=False,cbar=False,cmap='viridis')"
   ]
  },
  {
   "cell_type": "code",
   "execution_count": 10,
   "id": "6f7c6361",
   "metadata": {},
   "outputs": [],
   "source": [
    "df['VIP_no'] = pd.get_dummies(df['VIP'],drop_first=True)\n",
    "df['CryoSleep'] = pd.get_dummies(df['CryoSleep'],drop_first=True)"
   ]
  },
  {
   "cell_type": "code",
   "execution_count": 11,
   "id": "41ef2c0e",
   "metadata": {},
   "outputs": [
    {
     "data": {
      "text/html": [
       "<div>\n",
       "<style scoped>\n",
       "    .dataframe tbody tr th:only-of-type {\n",
       "        vertical-align: middle;\n",
       "    }\n",
       "\n",
       "    .dataframe tbody tr th {\n",
       "        vertical-align: top;\n",
       "    }\n",
       "\n",
       "    .dataframe thead th {\n",
       "        text-align: right;\n",
       "    }\n",
       "</style>\n",
       "<table border=\"1\" class=\"dataframe\">\n",
       "  <thead>\n",
       "    <tr style=\"text-align: right;\">\n",
       "      <th></th>\n",
       "      <th>PassengerId</th>\n",
       "      <th>HomePlanet</th>\n",
       "      <th>CryoSleep</th>\n",
       "      <th>Cabin</th>\n",
       "      <th>Destination</th>\n",
       "      <th>Age</th>\n",
       "      <th>VIP</th>\n",
       "      <th>RoomService</th>\n",
       "      <th>FoodCourt</th>\n",
       "      <th>ShoppingMall</th>\n",
       "      <th>Spa</th>\n",
       "      <th>VRDeck</th>\n",
       "      <th>Transported</th>\n",
       "      <th>VIP_no</th>\n",
       "    </tr>\n",
       "  </thead>\n",
       "  <tbody>\n",
       "    <tr>\n",
       "      <th>0</th>\n",
       "      <td>0001_01</td>\n",
       "      <td>Europa</td>\n",
       "      <td>0</td>\n",
       "      <td>B/0/P</td>\n",
       "      <td>TRAPPIST-1e</td>\n",
       "      <td>39.0</td>\n",
       "      <td>False</td>\n",
       "      <td>0.0</td>\n",
       "      <td>0.0</td>\n",
       "      <td>0.0</td>\n",
       "      <td>0.0</td>\n",
       "      <td>0.0</td>\n",
       "      <td>False</td>\n",
       "      <td>0</td>\n",
       "    </tr>\n",
       "    <tr>\n",
       "      <th>1</th>\n",
       "      <td>0002_01</td>\n",
       "      <td>Earth</td>\n",
       "      <td>0</td>\n",
       "      <td>F/0/S</td>\n",
       "      <td>TRAPPIST-1e</td>\n",
       "      <td>24.0</td>\n",
       "      <td>False</td>\n",
       "      <td>109.0</td>\n",
       "      <td>9.0</td>\n",
       "      <td>25.0</td>\n",
       "      <td>549.0</td>\n",
       "      <td>44.0</td>\n",
       "      <td>True</td>\n",
       "      <td>0</td>\n",
       "    </tr>\n",
       "    <tr>\n",
       "      <th>2</th>\n",
       "      <td>0003_01</td>\n",
       "      <td>Europa</td>\n",
       "      <td>0</td>\n",
       "      <td>A/0/S</td>\n",
       "      <td>TRAPPIST-1e</td>\n",
       "      <td>58.0</td>\n",
       "      <td>True</td>\n",
       "      <td>43.0</td>\n",
       "      <td>3576.0</td>\n",
       "      <td>0.0</td>\n",
       "      <td>6715.0</td>\n",
       "      <td>49.0</td>\n",
       "      <td>False</td>\n",
       "      <td>1</td>\n",
       "    </tr>\n",
       "    <tr>\n",
       "      <th>3</th>\n",
       "      <td>0003_02</td>\n",
       "      <td>Europa</td>\n",
       "      <td>0</td>\n",
       "      <td>A/0/S</td>\n",
       "      <td>TRAPPIST-1e</td>\n",
       "      <td>33.0</td>\n",
       "      <td>False</td>\n",
       "      <td>0.0</td>\n",
       "      <td>1283.0</td>\n",
       "      <td>371.0</td>\n",
       "      <td>3329.0</td>\n",
       "      <td>193.0</td>\n",
       "      <td>False</td>\n",
       "      <td>0</td>\n",
       "    </tr>\n",
       "    <tr>\n",
       "      <th>4</th>\n",
       "      <td>0004_01</td>\n",
       "      <td>Earth</td>\n",
       "      <td>0</td>\n",
       "      <td>F/1/S</td>\n",
       "      <td>TRAPPIST-1e</td>\n",
       "      <td>16.0</td>\n",
       "      <td>False</td>\n",
       "      <td>303.0</td>\n",
       "      <td>70.0</td>\n",
       "      <td>151.0</td>\n",
       "      <td>565.0</td>\n",
       "      <td>2.0</td>\n",
       "      <td>True</td>\n",
       "      <td>0</td>\n",
       "    </tr>\n",
       "    <tr>\n",
       "      <th>5</th>\n",
       "      <td>0005_01</td>\n",
       "      <td>Earth</td>\n",
       "      <td>0</td>\n",
       "      <td>F/0/P</td>\n",
       "      <td>PSO J318.5-22</td>\n",
       "      <td>44.0</td>\n",
       "      <td>False</td>\n",
       "      <td>0.0</td>\n",
       "      <td>483.0</td>\n",
       "      <td>0.0</td>\n",
       "      <td>291.0</td>\n",
       "      <td>0.0</td>\n",
       "      <td>True</td>\n",
       "      <td>0</td>\n",
       "    </tr>\n",
       "    <tr>\n",
       "      <th>6</th>\n",
       "      <td>0006_01</td>\n",
       "      <td>Earth</td>\n",
       "      <td>0</td>\n",
       "      <td>F/2/S</td>\n",
       "      <td>TRAPPIST-1e</td>\n",
       "      <td>26.0</td>\n",
       "      <td>False</td>\n",
       "      <td>42.0</td>\n",
       "      <td>1539.0</td>\n",
       "      <td>3.0</td>\n",
       "      <td>0.0</td>\n",
       "      <td>0.0</td>\n",
       "      <td>True</td>\n",
       "      <td>0</td>\n",
       "    </tr>\n",
       "    <tr>\n",
       "      <th>7</th>\n",
       "      <td>0006_02</td>\n",
       "      <td>Earth</td>\n",
       "      <td>1</td>\n",
       "      <td>G/0/S</td>\n",
       "      <td>TRAPPIST-1e</td>\n",
       "      <td>28.0</td>\n",
       "      <td>False</td>\n",
       "      <td>0.0</td>\n",
       "      <td>0.0</td>\n",
       "      <td>0.0</td>\n",
       "      <td>0.0</td>\n",
       "      <td>NaN</td>\n",
       "      <td>True</td>\n",
       "      <td>0</td>\n",
       "    </tr>\n",
       "    <tr>\n",
       "      <th>8</th>\n",
       "      <td>0007_01</td>\n",
       "      <td>Earth</td>\n",
       "      <td>0</td>\n",
       "      <td>F/3/S</td>\n",
       "      <td>TRAPPIST-1e</td>\n",
       "      <td>35.0</td>\n",
       "      <td>False</td>\n",
       "      <td>0.0</td>\n",
       "      <td>785.0</td>\n",
       "      <td>17.0</td>\n",
       "      <td>216.0</td>\n",
       "      <td>0.0</td>\n",
       "      <td>True</td>\n",
       "      <td>0</td>\n",
       "    </tr>\n",
       "    <tr>\n",
       "      <th>9</th>\n",
       "      <td>0008_01</td>\n",
       "      <td>Europa</td>\n",
       "      <td>1</td>\n",
       "      <td>B/1/P</td>\n",
       "      <td>55 Cancri e</td>\n",
       "      <td>14.0</td>\n",
       "      <td>False</td>\n",
       "      <td>0.0</td>\n",
       "      <td>0.0</td>\n",
       "      <td>0.0</td>\n",
       "      <td>0.0</td>\n",
       "      <td>0.0</td>\n",
       "      <td>True</td>\n",
       "      <td>0</td>\n",
       "    </tr>\n",
       "  </tbody>\n",
       "</table>\n",
       "</div>"
      ],
      "text/plain": [
       "  PassengerId HomePlanet  CryoSleep  Cabin    Destination   Age    VIP  \\\n",
       "0     0001_01     Europa          0  B/0/P    TRAPPIST-1e  39.0  False   \n",
       "1     0002_01      Earth          0  F/0/S    TRAPPIST-1e  24.0  False   \n",
       "2     0003_01     Europa          0  A/0/S    TRAPPIST-1e  58.0   True   \n",
       "3     0003_02     Europa          0  A/0/S    TRAPPIST-1e  33.0  False   \n",
       "4     0004_01      Earth          0  F/1/S    TRAPPIST-1e  16.0  False   \n",
       "5     0005_01      Earth          0  F/0/P  PSO J318.5-22  44.0  False   \n",
       "6     0006_01      Earth          0  F/2/S    TRAPPIST-1e  26.0  False   \n",
       "7     0006_02      Earth          1  G/0/S    TRAPPIST-1e  28.0  False   \n",
       "8     0007_01      Earth          0  F/3/S    TRAPPIST-1e  35.0  False   \n",
       "9     0008_01     Europa          1  B/1/P    55 Cancri e  14.0  False   \n",
       "\n",
       "   RoomService  FoodCourt  ShoppingMall     Spa  VRDeck  Transported  VIP_no  \n",
       "0          0.0        0.0           0.0     0.0     0.0        False       0  \n",
       "1        109.0        9.0          25.0   549.0    44.0         True       0  \n",
       "2         43.0     3576.0           0.0  6715.0    49.0        False       1  \n",
       "3          0.0     1283.0         371.0  3329.0   193.0        False       0  \n",
       "4        303.0       70.0         151.0   565.0     2.0         True       0  \n",
       "5          0.0      483.0           0.0   291.0     0.0         True       0  \n",
       "6         42.0     1539.0           3.0     0.0     0.0         True       0  \n",
       "7          0.0        0.0           0.0     0.0     NaN         True       0  \n",
       "8          0.0      785.0          17.0   216.0     0.0         True       0  \n",
       "9          0.0        0.0           0.0     0.0     0.0         True       0  "
      ]
     },
     "execution_count": 11,
     "metadata": {},
     "output_type": "execute_result"
    }
   ],
   "source": [
    "df.head(10)"
   ]
  },
  {
   "cell_type": "code",
   "execution_count": 12,
   "id": "4aa18a36",
   "metadata": {},
   "outputs": [],
   "source": [
    "df['CryoSleep'].fillna(value=df['CryoSleep'].mean(),inplace=True)"
   ]
  },
  {
   "cell_type": "code",
   "execution_count": null,
   "id": "0b099ca0",
   "metadata": {},
   "outputs": [],
   "source": []
  },
  {
   "cell_type": "code",
   "execution_count": 13,
   "id": "43f6422f",
   "metadata": {},
   "outputs": [
    {
     "data": {
      "text/plain": [
       "TRAPPIST-1e      5915\n",
       "55 Cancri e      1800\n",
       "PSO J318.5-22     796\n",
       "Name: Destination, dtype: int64"
      ]
     },
     "execution_count": 13,
     "metadata": {},
     "output_type": "execute_result"
    }
   ],
   "source": [
    "df['Destination'].value_counts()"
   ]
  },
  {
   "cell_type": "code",
   "execution_count": 14,
   "id": "f7a2f0d0",
   "metadata": {},
   "outputs": [],
   "source": [
    "p=[]\n",
    "for x in df['Destination']:\n",
    "    if x=='TRAPPIST-1e':\n",
    "        p.append(1)\n",
    "    elif x=='PSO J318.5-22':\n",
    "        p.append(2)\n",
    "    elif x=='55 Cancri e':\n",
    "        p.append(3)\n",
    "    else:\n",
    "        p.append(0)"
   ]
  },
  {
   "cell_type": "code",
   "execution_count": 15,
   "id": "642a7a33",
   "metadata": {},
   "outputs": [],
   "source": [
    "df['Destination']=p"
   ]
  },
  {
   "cell_type": "code",
   "execution_count": 16,
   "id": "f63265d9",
   "metadata": {},
   "outputs": [],
   "source": [
    "m=[]\n",
    "for x in df['HomePlanet']:\n",
    "    if x=='Earth':\n",
    "        m.append(1)\n",
    "    elif x=='Europa':\n",
    "        m.append(2)\n",
    "    elif x=='Mars':\n",
    "        m.append(3)\n",
    "    else:\n",
    "        m.append(0)"
   ]
  },
  {
   "cell_type": "code",
   "execution_count": 17,
   "id": "f3b06486",
   "metadata": {},
   "outputs": [],
   "source": [
    "df['HomePlanet']=m"
   ]
  },
  {
   "cell_type": "code",
   "execution_count": 18,
   "id": "b02eca10",
   "metadata": {},
   "outputs": [
    {
     "data": {
      "text/plain": [
       "1    5915\n",
       "3    1800\n",
       "2     796\n",
       "0     182\n",
       "Name: Destination, dtype: int64"
      ]
     },
     "execution_count": 18,
     "metadata": {},
     "output_type": "execute_result"
    }
   ],
   "source": [
    "df['Destination'].value_counts()"
   ]
  },
  {
   "cell_type": "code",
   "execution_count": null,
   "id": "bea88ba4",
   "metadata": {},
   "outputs": [],
   "source": []
  },
  {
   "cell_type": "code",
   "execution_count": 19,
   "id": "610d5b48",
   "metadata": {},
   "outputs": [
    {
     "data": {
      "text/html": [
       "<div>\n",
       "<style scoped>\n",
       "    .dataframe tbody tr th:only-of-type {\n",
       "        vertical-align: middle;\n",
       "    }\n",
       "\n",
       "    .dataframe tbody tr th {\n",
       "        vertical-align: top;\n",
       "    }\n",
       "\n",
       "    .dataframe thead th {\n",
       "        text-align: right;\n",
       "    }\n",
       "</style>\n",
       "<table border=\"1\" class=\"dataframe\">\n",
       "  <thead>\n",
       "    <tr style=\"text-align: right;\">\n",
       "      <th></th>\n",
       "      <th>HomePlanet</th>\n",
       "      <th>CryoSleep</th>\n",
       "      <th>Age</th>\n",
       "      <th>RoomService</th>\n",
       "      <th>FoodCourt</th>\n",
       "      <th>ShoppingMall</th>\n",
       "      <th>Spa</th>\n",
       "      <th>VRDeck</th>\n",
       "      <th>Transported</th>\n",
       "      <th>VIP_no</th>\n",
       "    </tr>\n",
       "    <tr>\n",
       "      <th>Destination</th>\n",
       "      <th></th>\n",
       "      <th></th>\n",
       "      <th></th>\n",
       "      <th></th>\n",
       "      <th></th>\n",
       "      <th></th>\n",
       "      <th></th>\n",
       "      <th></th>\n",
       "      <th></th>\n",
       "      <th></th>\n",
       "    </tr>\n",
       "  </thead>\n",
       "  <tbody>\n",
       "    <tr>\n",
       "      <th>0</th>\n",
       "      <td>1.642857</td>\n",
       "      <td>0.263736</td>\n",
       "      <td>30.122905</td>\n",
       "      <td>206.798883</td>\n",
       "      <td>342.585227</td>\n",
       "      <td>149.728814</td>\n",
       "      <td>366.027933</td>\n",
       "      <td>220.888889</td>\n",
       "      <td>0.505495</td>\n",
       "      <td>0.010989</td>\n",
       "    </tr>\n",
       "    <tr>\n",
       "      <th>1</th>\n",
       "      <td>1.674387</td>\n",
       "      <td>0.315638</td>\n",
       "      <td>28.817522</td>\n",
       "      <td>252.950752</td>\n",
       "      <td>375.916077</td>\n",
       "      <td>187.463309</td>\n",
       "      <td>283.981865</td>\n",
       "      <td>267.792250</td>\n",
       "      <td>0.471175</td>\n",
       "      <td>0.019273</td>\n",
       "    </tr>\n",
       "    <tr>\n",
       "      <th>2</th>\n",
       "      <td>1.126884</td>\n",
       "      <td>0.481156</td>\n",
       "      <td>27.529412</td>\n",
       "      <td>90.601290</td>\n",
       "      <td>122.187179</td>\n",
       "      <td>113.285347</td>\n",
       "      <td>118.001282</td>\n",
       "      <td>140.132653</td>\n",
       "      <td>0.503769</td>\n",
       "      <td>0.022613</td>\n",
       "    </tr>\n",
       "    <tr>\n",
       "      <th>3</th>\n",
       "      <td>1.689444</td>\n",
       "      <td>0.410556</td>\n",
       "      <td>29.305776</td>\n",
       "      <td>192.818746</td>\n",
       "      <td>888.091889</td>\n",
       "      <td>157.700342</td>\n",
       "      <td>480.395230</td>\n",
       "      <td>508.556250</td>\n",
       "      <td>0.610000</td>\n",
       "      <td>0.036111</td>\n",
       "    </tr>\n",
       "  </tbody>\n",
       "</table>\n",
       "</div>"
      ],
      "text/plain": [
       "             HomePlanet  CryoSleep        Age  RoomService   FoodCourt  \\\n",
       "Destination                                                              \n",
       "0              1.642857   0.263736  30.122905   206.798883  342.585227   \n",
       "1              1.674387   0.315638  28.817522   252.950752  375.916077   \n",
       "2              1.126884   0.481156  27.529412    90.601290  122.187179   \n",
       "3              1.689444   0.410556  29.305776   192.818746  888.091889   \n",
       "\n",
       "             ShoppingMall         Spa      VRDeck  Transported    VIP_no  \n",
       "Destination                                                               \n",
       "0              149.728814  366.027933  220.888889     0.505495  0.010989  \n",
       "1              187.463309  283.981865  267.792250     0.471175  0.019273  \n",
       "2              113.285347  118.001282  140.132653     0.503769  0.022613  \n",
       "3              157.700342  480.395230  508.556250     0.610000  0.036111  "
      ]
     },
     "execution_count": 19,
     "metadata": {},
     "output_type": "execute_result"
    }
   ],
   "source": [
    "df.groupby(['Destination']).mean()"
   ]
  },
  {
   "cell_type": "code",
   "execution_count": 20,
   "id": "e0b9b5ad",
   "metadata": {},
   "outputs": [],
   "source": [
    "def impute_age(cols):\n",
    "    Age = cols[0]\n",
    "    Destination = cols[1]\n",
    "    \n",
    "    if pd.isnull(Age):\n",
    "\n",
    "        if Destination == 0:\n",
    "            return 30.122905\n",
    "\n",
    "        elif Destination == 1:\n",
    "            return 28.817522\n",
    "\n",
    "        elif Destination == 2:\n",
    "            return 27.529412\n",
    "        else:\n",
    "            return 29.305776\n",
    "\n",
    "    else:\n",
    "        return Age"
   ]
  },
  {
   "cell_type": "code",
   "execution_count": 21,
   "id": "60a5e41b",
   "metadata": {},
   "outputs": [],
   "source": [
    "df['Age'] = df[['Age','Destination']].apply(impute_age,axis=1)"
   ]
  },
  {
   "cell_type": "code",
   "execution_count": 22,
   "id": "2be69e2e",
   "metadata": {},
   "outputs": [],
   "source": [
    "def spa(cols):\n",
    "    Spa = cols[0]\n",
    "    Destination = cols[1]\n",
    "    \n",
    "    if pd.isnull(Spa):\n",
    "\n",
    "        if Destination == 0:\n",
    "            return 366.027933\n",
    "\n",
    "        elif Destination == 1:\n",
    "            return 283.981865\n",
    "\n",
    "        elif Destination == 2:\n",
    "            return 118.001282\n",
    "        else:\n",
    "            return 480.395230\n",
    "\n",
    "    else:\n",
    "        return Spa\n",
    "df['Spa'] = df[['Spa','Destination']].apply(spa,axis=1)"
   ]
  },
  {
   "cell_type": "code",
   "execution_count": 23,
   "id": "fb328f25",
   "metadata": {},
   "outputs": [],
   "source": [
    "def VRDeck(cols):\n",
    "    VRDeck = cols[0]\n",
    "    Destination = cols[1]\n",
    "    \n",
    "    if pd.isnull(VRDeck):\n",
    "\n",
    "        if Destination == 0:\n",
    "            return 220.888889\n",
    "\n",
    "        elif Destination == 1:\n",
    "            return 267.792250\n",
    "\n",
    "        elif Destination == 2:\n",
    "            return 140.132653\n",
    "        else:\n",
    "            return 508.556250\n",
    "\n",
    "    else:\n",
    "        return VRDeck\n",
    "df['VRDeck'] = df[['VRDeck','Destination']].apply(VRDeck,axis=1)"
   ]
  },
  {
   "cell_type": "code",
   "execution_count": 24,
   "id": "81f06ce2",
   "metadata": {},
   "outputs": [
    {
     "name": "stdout",
     "output_type": "stream",
     "text": [
      "<class 'pandas.core.frame.DataFrame'>\n",
      "RangeIndex: 8693 entries, 0 to 8692\n",
      "Data columns (total 14 columns):\n",
      " #   Column        Non-Null Count  Dtype  \n",
      "---  ------        --------------  -----  \n",
      " 0   PassengerId   8693 non-null   object \n",
      " 1   HomePlanet    8693 non-null   int64  \n",
      " 2   CryoSleep     8693 non-null   uint8  \n",
      " 3   Cabin         8494 non-null   object \n",
      " 4   Destination   8693 non-null   int64  \n",
      " 5   Age           8693 non-null   float64\n",
      " 6   VIP           8490 non-null   object \n",
      " 7   RoomService   8512 non-null   float64\n",
      " 8   FoodCourt     8510 non-null   float64\n",
      " 9   ShoppingMall  8485 non-null   float64\n",
      " 10  Spa           8693 non-null   float64\n",
      " 11  VRDeck        8693 non-null   float64\n",
      " 12  Transported   8693 non-null   bool   \n",
      " 13  VIP_no        8693 non-null   uint8  \n",
      "dtypes: bool(1), float64(6), int64(2), object(3), uint8(2)\n",
      "memory usage: 772.6+ KB\n"
     ]
    }
   ],
   "source": [
    "df.info()"
   ]
  },
  {
   "cell_type": "code",
   "execution_count": 25,
   "id": "6ced7928",
   "metadata": {},
   "outputs": [],
   "source": [
    "def FoodCourta(cols):\n",
    "    FoodCourt = cols[0]\n",
    "    Destination = cols[1]\n",
    "    \n",
    "    if pd.isnull(FoodCourt):\n",
    "\n",
    "        if Destination == 0:\n",
    "            return 342.585227\n",
    "\n",
    "        elif Destination == 1:\n",
    "            return 375.916077\n",
    "\n",
    "        elif Destination == 2:\n",
    "            return 122.187179\n",
    "        else:\n",
    "            return 888.091889\n",
    "\n",
    "    else:\n",
    "        return FoodCourt\n",
    "df['FoodCourt'] = df[['FoodCourt','Destination']].apply(FoodCourta,axis=1)"
   ]
  },
  {
   "cell_type": "code",
   "execution_count": 26,
   "id": "e83d2fb3",
   "metadata": {},
   "outputs": [],
   "source": [
    "def impute_age(cols):\n",
    "    ShoppingMall = cols[0]\n",
    "    Destination = cols[1]\n",
    "    \n",
    "    if pd.isnull(ShoppingMall):\n",
    "\n",
    "        if Destination == 0:\n",
    "            return 149.728814\n",
    "\n",
    "        elif Destination == 1:\n",
    "            return 187.463309\n",
    "\n",
    "        elif Destination == 2:\n",
    "            return 113.285347\n",
    "        else:\n",
    "            return 157.700342\n",
    "\n",
    "    else:\n",
    "        return ShoppingMall\n",
    "df['ShoppingMall'] = df[['ShoppingMall','Destination']].apply(impute_age,axis=1)"
   ]
  },
  {
   "cell_type": "code",
   "execution_count": 27,
   "id": "419d6871",
   "metadata": {},
   "outputs": [
    {
     "name": "stdout",
     "output_type": "stream",
     "text": [
      "<class 'pandas.core.frame.DataFrame'>\n",
      "RangeIndex: 8693 entries, 0 to 8692\n",
      "Data columns (total 14 columns):\n",
      " #   Column        Non-Null Count  Dtype  \n",
      "---  ------        --------------  -----  \n",
      " 0   PassengerId   8693 non-null   object \n",
      " 1   HomePlanet    8693 non-null   int64  \n",
      " 2   CryoSleep     8693 non-null   uint8  \n",
      " 3   Cabin         8494 non-null   object \n",
      " 4   Destination   8693 non-null   int64  \n",
      " 5   Age           8693 non-null   float64\n",
      " 6   VIP           8490 non-null   object \n",
      " 7   RoomService   8512 non-null   float64\n",
      " 8   FoodCourt     8693 non-null   float64\n",
      " 9   ShoppingMall  8693 non-null   float64\n",
      " 10  Spa           8693 non-null   float64\n",
      " 11  VRDeck        8693 non-null   float64\n",
      " 12  Transported   8693 non-null   bool   \n",
      " 13  VIP_no        8693 non-null   uint8  \n",
      "dtypes: bool(1), float64(6), int64(2), object(3), uint8(2)\n",
      "memory usage: 772.6+ KB\n"
     ]
    }
   ],
   "source": [
    "df.info()"
   ]
  },
  {
   "cell_type": "code",
   "execution_count": 28,
   "id": "458ca385",
   "metadata": {},
   "outputs": [],
   "source": [
    "def RoomServicew(cols):\n",
    "    RoomService = cols[0]\n",
    "    Destination = cols[1]\n",
    "    \n",
    "    if pd.isnull(RoomService):\n",
    "\n",
    "        if Destination == 0:\n",
    "            return 206.798883\n",
    "\n",
    "        elif Destination == 1:\n",
    "            return 252.950752\n",
    "\n",
    "        elif Destination == 2:\n",
    "            return 90.601290\n",
    "        else:\n",
    "            return 192.818746\n",
    "\n",
    "    else:\n",
    "        return RoomService\n",
    "df['RoomService'] = df[['RoomService','Destination']].apply(RoomServicew,axis=1)"
   ]
  },
  {
   "cell_type": "code",
   "execution_count": 29,
   "id": "756bc3f6",
   "metadata": {},
   "outputs": [
    {
     "name": "stdout",
     "output_type": "stream",
     "text": [
      "<class 'pandas.core.frame.DataFrame'>\n",
      "RangeIndex: 8693 entries, 0 to 8692\n",
      "Data columns (total 14 columns):\n",
      " #   Column        Non-Null Count  Dtype  \n",
      "---  ------        --------------  -----  \n",
      " 0   PassengerId   8693 non-null   object \n",
      " 1   HomePlanet    8693 non-null   int64  \n",
      " 2   CryoSleep     8693 non-null   uint8  \n",
      " 3   Cabin         8494 non-null   object \n",
      " 4   Destination   8693 non-null   int64  \n",
      " 5   Age           8693 non-null   float64\n",
      " 6   VIP           8490 non-null   object \n",
      " 7   RoomService   8693 non-null   float64\n",
      " 8   FoodCourt     8693 non-null   float64\n",
      " 9   ShoppingMall  8693 non-null   float64\n",
      " 10  Spa           8693 non-null   float64\n",
      " 11  VRDeck        8693 non-null   float64\n",
      " 12  Transported   8693 non-null   bool   \n",
      " 13  VIP_no        8693 non-null   uint8  \n",
      "dtypes: bool(1), float64(6), int64(2), object(3), uint8(2)\n",
      "memory usage: 772.6+ KB\n"
     ]
    }
   ],
   "source": [
    "df.info()"
   ]
  },
  {
   "cell_type": "code",
   "execution_count": 30,
   "id": "9e12b532",
   "metadata": {},
   "outputs": [],
   "source": [
    "deck=[]\n",
    "num=[]\n",
    "side=[]\n",
    "for x in df['Cabin']:\n",
    "    if pd.isnull(x)==False:\n",
    "        cs=x.split('/')\n",
    "        deck.append(cs[0])\n",
    "        num.append(cs[1])\n",
    "        side.append(cs[2])\n",
    "    else:\n",
    "        deck.append(x)\n",
    "        num.append(x)\n",
    "        side.append(x)"
   ]
  },
  {
   "cell_type": "code",
   "execution_count": 31,
   "id": "2f65ec92",
   "metadata": {},
   "outputs": [],
   "source": [
    "df['deck']=deck\n",
    "df['num']=num\n",
    "df['side']=side"
   ]
  },
  {
   "cell_type": "code",
   "execution_count": null,
   "id": "8df23575",
   "metadata": {},
   "outputs": [],
   "source": []
  },
  {
   "cell_type": "code",
   "execution_count": 32,
   "id": "ebca1634",
   "metadata": {},
   "outputs": [],
   "source": [
    "df['side'] = pd.get_dummies(df['side'],drop_first=True)"
   ]
  },
  {
   "cell_type": "code",
   "execution_count": null,
   "id": "9ae5f896",
   "metadata": {},
   "outputs": [],
   "source": []
  },
  {
   "cell_type": "code",
   "execution_count": null,
   "id": "d162d5b1",
   "metadata": {},
   "outputs": [],
   "source": [
    "sns.heatmap(df.isnull(),yticklabels=False,cbar=False,cmap='viridis')"
   ]
  },
  {
   "cell_type": "code",
   "execution_count": null,
   "id": "f2bb69c6",
   "metadata": {},
   "outputs": [],
   "source": [
    "df.drop(['Cabin'],axis=1,inplace=True)"
   ]
  },
  {
   "cell_type": "code",
   "execution_count": null,
   "id": "0c236d31",
   "metadata": {},
   "outputs": [],
   "source": []
  },
  {
   "cell_type": "code",
   "execution_count": null,
   "id": "00311b45",
   "metadata": {},
   "outputs": [],
   "source": [
    "sns.heatmap(df.isnull(),yticklabels=False,cbar=False,cmap='viridis')"
   ]
  },
  {
   "cell_type": "code",
   "execution_count": null,
   "id": "74dfd82b",
   "metadata": {},
   "outputs": [],
   "source": [
    "df"
   ]
  },
  {
   "cell_type": "code",
   "execution_count": null,
   "id": "cbe9b7e8",
   "metadata": {},
   "outputs": [],
   "source": [
    "de=[]\n",
    "for x in df['deck']:\n",
    "        if x=='A':\n",
    "            de.append(1)\n",
    "        elif x=='B':\n",
    "            de.append(2)\n",
    "        elif x=='C':\n",
    "            de.append(3)\n",
    "        elif x=='D':\n",
    "            de.append(4)\n",
    "        elif x=='E':\n",
    "            de.append(5)\n",
    "        elif x=='F':\n",
    "            de.append(6)\n",
    "        elif x=='G':\n",
    "            de.append(7)\n",
    "        else:\n",
    "            de.append(4)\n",
    "        "
   ]
  },
  {
   "cell_type": "code",
   "execution_count": null,
   "id": "6f952498",
   "metadata": {},
   "outputs": [],
   "source": [
    "df['deck']=de\n"
   ]
  },
  {
   "cell_type": "code",
   "execution_count": null,
   "id": "e089d2cd",
   "metadata": {},
   "outputs": [],
   "source": [
    "df.info()"
   ]
  },
  {
   "cell_type": "code",
   "execution_count": null,
   "id": "c8fa4ad4",
   "metadata": {},
   "outputs": [],
   "source": [
    "sns.heatmap(df.isnull(),yticklabels=False,cbar=False,cmap='viridis')"
   ]
  },
  {
   "cell_type": "code",
   "execution_count": null,
   "id": "68217cd5",
   "metadata": {},
   "outputs": [],
   "source": [
    "df['VIP'].fillna(value=1,inplace=True)"
   ]
  },
  {
   "cell_type": "code",
   "execution_count": null,
   "id": "0d88b014",
   "metadata": {},
   "outputs": [],
   "source": [
    "op=[]\n",
    "for x in df['num']:\n",
    "        if pd.isnull(x):\n",
    "            x=100\n",
    "            op.append(int(x))\n",
    "        else:\n",
    "            x=int(x)\n",
    "            op.append(x)"
   ]
  },
  {
   "cell_type": "code",
   "execution_count": null,
   "id": "d6ee9b98",
   "metadata": {},
   "outputs": [],
   "source": [
    "df['VIP']=df['VIP_no']"
   ]
  },
  {
   "cell_type": "code",
   "execution_count": null,
   "id": "a528aea5",
   "metadata": {},
   "outputs": [],
   "source": [
    "df.dropna(inplace=True)"
   ]
  },
  {
   "cell_type": "code",
   "execution_count": null,
   "id": "6f789a73",
   "metadata": {},
   "outputs": [],
   "source": [
    "df"
   ]
  },
  {
   "cell_type": "code",
   "execution_count": null,
   "id": "a11b1499",
   "metadata": {},
   "outputs": [],
   "source": [
    "from sklearn.model_selection import train_test_split"
   ]
  },
  {
   "cell_type": "code",
   "execution_count": null,
   "id": "1ec6b67d",
   "metadata": {},
   "outputs": [],
   "source": [
    "X_train, X_test, y_train, y_test = train_test_split(df[['PassengerId', 'HomePlanet', 'CryoSleep', 'Destination', 'Age', 'VIP',\n",
    "       'RoomService', 'FoodCourt', 'ShoppingMall', 'Spa', 'VRDeck',\n",
    "       'deck', 'num', 'side']], \n",
    "                                                    df['Transported'], test_size=0.30, \n",
    "                                                    random_state=101)"
   ]
  },
  {
   "cell_type": "code",
   "execution_count": null,
   "id": "6798c8ee",
   "metadata": {},
   "outputs": [],
   "source": [
    "from sklearn.linear_model import LogisticRegression"
   ]
  },
  {
   "cell_type": "code",
   "execution_count": null,
   "id": "e35461ef",
   "metadata": {},
   "outputs": [],
   "source": [
    "logmodel = LogisticRegression()\n",
    "logmodel.fit(X_train,y_train)"
   ]
  },
  {
   "cell_type": "code",
   "execution_count": null,
   "id": "cade7cdc",
   "metadata": {},
   "outputs": [],
   "source": [
    "predictions = logmodel.predict(X_test)"
   ]
  },
  {
   "cell_type": "code",
   "execution_count": null,
   "id": "eef9278d",
   "metadata": {},
   "outputs": [],
   "source": [
    "from sklearn.metrics import classification_report"
   ]
  },
  {
   "cell_type": "code",
   "execution_count": null,
   "id": "cba07c20",
   "metadata": {},
   "outputs": [],
   "source": [
    "print(classification_report(y_test,predictions))"
   ]
  },
  {
   "cell_type": "code",
   "execution_count": null,
   "id": "595145f5",
   "metadata": {},
   "outputs": [],
   "source": [
    "test_data = pd.read_csv(\"D:/spaceship-titanic/test.csv\")\n",
    "test_data = test_data.drop(['Name'], axis=1)\n",
    "test_data=test_data.apply(lambda x: x.fillna(x.value_counts().index[0]))\n"
   ]
  },
  {
   "cell_type": "code",
   "execution_count": null,
   "id": "d70dd2c9",
   "metadata": {},
   "outputs": [],
   "source": [
    "m=[]\n",
    "for x in test_data['HomePlanet']:\n",
    "    if x=='Earth':\n",
    "        m.append(1)\n",
    "    elif x=='Europa':\n",
    "        m.append(2)\n",
    "    elif x=='Mars':\n",
    "        m.append(3)\n",
    "    else:\n",
    "        m.append(0)\n",
    "test_data['HomePlanet']=m"
   ]
  },
  {
   "cell_type": "code",
   "execution_count": null,
   "id": "6e342c4a",
   "metadata": {},
   "outputs": [],
   "source": [
    "test_data['CryoSleep'] = pd.get_dummies(test_data['CryoSleep'],drop_first=True)\n",
    "test_data['VIP'] = pd.get_dummies(test_data['VIP'],drop_first=True)"
   ]
  },
  {
   "cell_type": "code",
   "execution_count": null,
   "id": "4539edf9",
   "metadata": {},
   "outputs": [],
   "source": [
    "deck=[]\n",
    "num=[]\n",
    "side=[]\n",
    "for x in test_data['Cabin']:\n",
    "    if pd.isnull(x)==False:\n",
    "        cs=x.split('/')\n",
    "        deck.append(cs[0])\n",
    "        num.append(cs[1])\n",
    "        side.append(cs[2])\n",
    "    else:\n",
    "        deck.append(x)\n",
    "        num.append(x)\n",
    "        side.append(x)\n",
    "test_data['deck']=deck\n",
    "test_data['num']=num\n",
    "test_data['side']=side"
   ]
  },
  {
   "cell_type": "code",
   "execution_count": null,
   "id": "947a26fe",
   "metadata": {},
   "outputs": [],
   "source": [
    "test_data['side'] = pd.get_dummies(test_data['side'],drop_first=True)"
   ]
  },
  {
   "cell_type": "code",
   "execution_count": null,
   "id": "fd316d40",
   "metadata": {},
   "outputs": [],
   "source": [
    "test_data.drop(['Cabin'],axis=1,inplace=True)"
   ]
  },
  {
   "cell_type": "code",
   "execution_count": null,
   "id": "10786991",
   "metadata": {},
   "outputs": [],
   "source": [
    "de=[]\n",
    "for x in test_data['deck']:\n",
    "        if x=='A':\n",
    "            de.append(1)\n",
    "        elif x=='B':\n",
    "            de.append(2)\n",
    "        elif x=='C':\n",
    "            de.append(3)\n",
    "        elif x=='D':\n",
    "            de.append(4)\n",
    "        elif x=='E':\n",
    "            de.append(5)\n",
    "        elif x=='F':\n",
    "            de.append(6)\n",
    "        elif x=='G':\n",
    "            de.append(7)\n",
    "        else:\n",
    "            de.append(4)\n",
    "test_data['deck']=de"
   ]
  },
  {
   "cell_type": "code",
   "execution_count": null,
   "id": "4a95b9a7",
   "metadata": {},
   "outputs": [],
   "source": [
    "test_data"
   ]
  },
  {
   "cell_type": "code",
   "execution_count": null,
   "id": "047ff144",
   "metadata": {},
   "outputs": [],
   "source": []
  },
  {
   "cell_type": "code",
   "execution_count": null,
   "id": "3e93effb",
   "metadata": {},
   "outputs": [],
   "source": [
    "p=[]\n",
    "for x in test_data['Destination']:\n",
    "    if x=='TRAPPIST-1e':\n",
    "        p.append(1)\n",
    "    elif x=='PSO J318.5-22':\n",
    "        p.append(2)\n",
    "    elif x=='55 Cancri e':\n",
    "        p.append(3)\n",
    "    else:\n",
    "        p.append(0)\n",
    "test_data['Destination']=p"
   ]
  },
  {
   "cell_type": "code",
   "execution_count": null,
   "id": "f57623fc",
   "metadata": {},
   "outputs": [],
   "source": [
    "test_data.info()"
   ]
  },
  {
   "cell_type": "code",
   "execution_count": null,
   "id": "14250d24",
   "metadata": {},
   "outputs": [],
   "source": [
    "test_data.fillna(0, inplace=True)"
   ]
  },
  {
   "cell_type": "code",
   "execution_count": null,
   "id": "3e0c87f2",
   "metadata": {},
   "outputs": [],
   "source": [
    "test_data"
   ]
  },
  {
   "cell_type": "code",
   "execution_count": null,
   "id": "070ac39c",
   "metadata": {},
   "outputs": [],
   "source": [
    "test_data.info()"
   ]
  },
  {
   "cell_type": "code",
   "execution_count": null,
   "id": "94bbfdda",
   "metadata": {},
   "outputs": [],
   "source": [
    "test_pred_LR = logmodel.predict(test_data)"
   ]
  },
  {
   "cell_type": "code",
   "execution_count": null,
   "id": "34a64cc7",
   "metadata": {},
   "outputs": [],
   "source": [
    "len(test_pred_LR)"
   ]
  },
  {
   "cell_type": "code",
   "execution_count": null,
   "id": "758e7b09",
   "metadata": {},
   "outputs": [],
   "source": [
    "sample_submission= pd.read_csv(\"D:/spaceship-titanic/sample_submission.csv\")\n",
    "sample_submission.Transported=test_pred_LR\n",
    "LR_results=sample_submission\n",
    "print(LR_results)"
   ]
  },
  {
   "cell_type": "code",
   "execution_count": null,
   "id": "f99e0a80",
   "metadata": {},
   "outputs": [],
   "source": [
    "LR_results.to_csv(\"D:/spaceship-titanic/my67.csv\", index=False)\n",
    "LR_results.head(28)"
   ]
  },
  {
   "cell_type": "code",
   "execution_count": null,
   "id": "e62862ca",
   "metadata": {},
   "outputs": [],
   "source": [
    "from sklearn.ensemble import RandomForestClassifier"
   ]
  },
  {
   "cell_type": "code",
   "execution_count": null,
   "id": "040a0d24",
   "metadata": {},
   "outputs": [],
   "source": [
    "rf=RandomForestClassifier()"
   ]
  },
  {
   "cell_type": "code",
   "execution_count": null,
   "id": "c0d82c49",
   "metadata": {},
   "outputs": [],
   "source": [
    "rf.fit(X_train,y_train)"
   ]
  },
  {
   "cell_type": "code",
   "execution_count": null,
   "id": "e94d16b9",
   "metadata": {},
   "outputs": [],
   "source": [
    "pred=rf.predict(X_test)"
   ]
  },
  {
   "cell_type": "code",
   "execution_count": null,
   "id": "88cf9ada",
   "metadata": {},
   "outputs": [],
   "source": [
    "from sklearn.metrics import classification_report"
   ]
  },
  {
   "cell_type": "code",
   "execution_count": null,
   "id": "583d31f5",
   "metadata": {},
   "outputs": [],
   "source": [
    "print(classification_report(y_test,pred))"
   ]
  },
  {
   "cell_type": "code",
   "execution_count": null,
   "id": "f618ca82",
   "metadata": {},
   "outputs": [],
   "source": [
    "test_pred_LR = rf.predict(test_data)"
   ]
  },
  {
   "cell_type": "code",
   "execution_count": null,
   "id": "dd57f9b3",
   "metadata": {},
   "outputs": [],
   "source": [
    "sample_submission= pd.read_csv(\"D:/spaceship-titanic/sample_submission.csv\")\n",
    "sample_submission.Transported=test_pred_LR\n",
    "LR_results=sample_submission\n",
    "print(LR_results)\n",
    "LR_results.to_csv(\"D:/spaceship-titanic/myrand2.csv\", index=False)\n",
    "LR_results.head(28)"
   ]
  },
  {
   "cell_type": "code",
   "execution_count": null,
   "id": "02bd7800",
   "metadata": {},
   "outputs": [],
   "source": []
  }
 ],
 "metadata": {
  "kernelspec": {
   "display_name": "Python 3",
   "language": "python",
   "name": "python3"
  },
  "language_info": {
   "codemirror_mode": {
    "name": "ipython",
    "version": 3
   },
   "file_extension": ".py",
   "mimetype": "text/x-python",
   "name": "python",
   "nbconvert_exporter": "python",
   "pygments_lexer": "ipython3",
   "version": "3.8.8"
  }
 },
 "nbformat": 4,
 "nbformat_minor": 5
}
